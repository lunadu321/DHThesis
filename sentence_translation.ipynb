{
 "cells": [
  {
   "cell_type": "code",
   "execution_count": null,
   "id": "8d053136",
   "metadata": {},
   "outputs": [],
   "source": [
    "import openai\n",
    "\n",
    "openai.api_key = 'your_api_key'\n",
    "\n",
    "def streamprompt(model, messages):\n",
    "    \n",
    "    stream = openai.ChatCompletion.create(\n",
    "        model=model,\n",
    "        messages=messages,\n",
    "        stream=True,\n",
    "    )\n",
    "\n",
    "    streamoutput = \"\"\n",
    "    for chunk in stream:\n",
    "        if 'content' in chunk['choices'][0]['delta']:\n",
    "            streamoutput += chunk['choices'][0]['delta']['content']\n",
    "\n",
    "    return streamoutput\n",
    "\n",
    "def translate_file(input_file, output_file, model):\n",
    "    \n",
    "    with open(input_file, 'r', encoding='utf-8') as infile, open(output_file, 'w', encoding='utf-8') as outfile:\n",
    "        for line in infile:\n",
    "            if line.strip(): \n",
    "                messages = [{\"role\": \"user\", \"content\": f\"Translate into Simplified Chinese: {line.strip()}\"}]\n",
    "                translation = streamprompt(model, messages)\n",
    "                if translation: \n",
    "                    outfile.write(translation + '\\n')\n",
    "                else:\n",
    "                    outfile.write('Translation failed for this line.\\n')\n",
    "                    \n",
    "#example\n",
    "model=\"gpt-3.5-turbo-16k\"\n",
    "input_file = 'path/2BR02B_sentences.txt' \n",
    "output_file = 'path/3.5_turbo.txt'  \n",
    "\n",
    "translate_file(input_file, output_file, model)\n"
   ]
  }
 ],
 "metadata": {
  "kernelspec": {
   "display_name": "Python 3 (ipykernel)",
   "language": "python",
   "name": "python3"
  },
  "language_info": {
   "codemirror_mode": {
    "name": "ipython",
    "version": 3
   },
   "file_extension": ".py",
   "mimetype": "text/x-python",
   "name": "python",
   "nbconvert_exporter": "python",
   "pygments_lexer": "ipython3",
   "version": "3.11.4"
  }
 },
 "nbformat": 4,
 "nbformat_minor": 5
}
